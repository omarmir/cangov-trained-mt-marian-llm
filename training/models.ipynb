{
 "cells": [
  {
   "cell_type": "code",
   "execution_count": 1,
   "id": "854da41a",
   "metadata": {},
   "outputs": [
    {
     "name": "stderr",
     "output_type": "stream",
     "text": [
      "/home/omar/Code/AI-Translation/.venv/lib/python3.12/site-packages/tqdm/auto.py:21: TqdmWarning: IProgress not found. Please update jupyter and ipywidgets. See https://ipywidgets.readthedocs.io/en/stable/user_install.html\n",
      "  from .autonotebook import tqdm as notebook_tqdm\n"
     ]
    }
   ],
   "source": [
    "from transformers import MarianMTModel, MarianTokenizer, AutoTokenizer, AutoModelForSeq2SeqLM"
   ]
  },
  {
   "cell_type": "code",
   "execution_count": 2,
   "id": "f5d0a0a1",
   "metadata": {},
   "outputs": [],
   "source": [
    "input_text = \"As part of Canada’s second Action Plan on Open Government, the Government of Canada has committed to the disclosure of contracting data via a centralized, machine-readable database available to the public. This commitment reinforces the proactive publication of contracts, which reflects broader government commitments to transparency and strengthened accountability within the public sector originally announced in Budget 2004.\""
   ]
  },
  {
   "cell_type": "code",
   "execution_count": 10,
   "id": "dff58f21",
   "metadata": {},
   "outputs": [],
   "source": [
    "def format_params(n):\n",
    "    if n >= 1e9:\n",
    "        return f\"{n / 1e9:.2f}B\"\n",
    "    elif n >= 1e6:\n",
    "        return f\"{n / 1e6:.2f}M\"\n",
    "    elif n >= 1e3:\n",
    "        return f\"{n / 1e3:.2f}K\"\n",
    "    else:\n",
    "        return str(n)"
   ]
  },
  {
   "cell_type": "code",
   "execution_count": 11,
   "id": "69de377b",
   "metadata": {},
   "outputs": [
    {
     "name": "stdout",
     "output_type": "stream",
     "text": [
      "Total parameters: 75.13M\n",
      "Trainable parameters: 75.13M\n",
      "Max input length (tokenizer): 512\n",
      "Model's max position embeddings: 512\n"
     ]
    }
   ],
   "source": [
    "model_name = \"Helsinki-NLP/opus-mt-en-fr\"\n",
    "tokenizer = MarianTokenizer.from_pretrained(model_name)\n",
    "model = MarianMTModel.from_pretrained(model_name)\n",
    "total_params = sum(p.numel() for p in model.parameters())\n",
    "trainable_params = sum(p.numel() for p in model.parameters() if p.requires_grad)\n",
    "\n",
    "print(f\"Total parameters: {format_params(total_params)}\")\n",
    "print(f\"Trainable parameters: {format_params(trainable_params)}\")\n",
    "print(f\"Max input length (tokenizer): {tokenizer.model_max_length}\")\n",
    "print(f\"Model's max position embeddings: {model.config.max_position_embeddings}\")"
   ]
  },
  {
   "cell_type": "code",
   "execution_count": 4,
   "id": "66fd1415",
   "metadata": {},
   "outputs": [],
   "source": [
    "input_tokens = tokenizer.encode(input_text, return_tensors=\"pt\")\n",
    "translated_tokens = model.generate(input_tokens, max_length=6000)\n",
    "output_text = tokenizer.decode(translated_tokens[0], skip_special_tokens=True)"
   ]
  },
  {
   "cell_type": "code",
   "execution_count": 5,
   "id": "b0e44664",
   "metadata": {},
   "outputs": [],
   "source": [
    "model_name2 = \"rajbhirud/eng-to-fra-model\"\n",
    "tokenizer2 = MarianTokenizer.from_pretrained(model_name2)\n",
    "model2 = MarianMTModel.from_pretrained(model_name2)"
   ]
  },
  {
   "cell_type": "code",
   "execution_count": 6,
   "id": "7fc5b823",
   "metadata": {},
   "outputs": [],
   "source": [
    "input_tokens2 = tokenizer2.encode(input_text, return_tensors=\"pt\")\n",
    "translated_tokens2 = model2.generate(input_tokens2, max_length=6000)\n",
    "output_text2 = tokenizer2.decode(translated_tokens2[0], skip_special_tokens=True)"
   ]
  },
  {
   "cell_type": "code",
   "execution_count": 7,
   "id": "0093e424",
   "metadata": {},
   "outputs": [
    {
     "name": "stdout",
     "output_type": "stream",
     "text": [
      "Helsinki-NLP/opus-mt-en-fr Dans le cadre du deuxième Plan d'action du Canada pour un gouvernement ouvert, le gouvernement du Canada s'est engagé à communiquer des données sur les marchés au moyen d'une base de données centralisée et lisible par machine à la disposition du public, ce qui renforce la publication proactive des marchés, ce qui reflète l'engagement plus large du gouvernement à l'égard de la transparence et du renforcement de la responsabilisation au sein du secteur public annoncé initialement dans le budget de 2004.\n",
      "rajbhirud/eng-to-fra-model Dans le cadre du deuxième Plan d'action du Canada pour un gouvernement ouvert, le gouvernement du Canada s'est engagé à communiquer des données sous-traitées via une base de données centralisée, lisible par la machine, accessible au public. Cet objectif renforce la publication proactive des marchés, qui reflète l'ensemble des promesses gouvernementales en matière de transparence et de redevabilité au sein du secteur public initialement annoncé dans le budget de 2004.\n"
     ]
    }
   ],
   "source": [
    "print(model_name, output_text)\n",
    "print(model_name2, output_text2)"
   ]
  }
 ],
 "metadata": {
  "kernelspec": {
   "display_name": "Python 3",
   "language": "python",
   "name": "python3"
  },
  "language_info": {
   "codemirror_mode": {
    "name": "ipython",
    "version": 3
   },
   "file_extension": ".py",
   "mimetype": "text/x-python",
   "name": "python",
   "nbconvert_exporter": "python",
   "pygments_lexer": "ipython3",
   "version": "3.12.3"
  }
 },
 "nbformat": 4,
 "nbformat_minor": 5
}
