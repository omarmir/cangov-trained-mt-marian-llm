{
 "cells": [
  {
   "cell_type": "code",
   "execution_count": 15,
   "id": "d63e38be",
   "metadata": {},
   "outputs": [],
   "source": [
    "import requests\n",
    "import json\n",
    "from pathlib import Path\n",
    "import xml.etree.ElementTree as ET\n",
    "import re\n",
    "import unicodedata\n",
    "import html"
   ]
  },
  {
   "cell_type": "code",
   "execution_count": 16,
   "id": "cddd8a32",
   "metadata": {},
   "outputs": [],
   "source": [
    "def clean_text_for_ai(text: str) -> str:\n",
    "    # Normalize unicode\n",
    "    text = unicodedata.normalize(\"NFKC\", text)\n",
    "    # Unescape HTML entities\n",
    "    text = html.unescape(text)\n",
    "    # Remove non-printable/control characters\n",
    "    text = ''.join(c for c in text if c.isprintable())\n",
    "    # Collapse whitespace\n",
    "    text = re.sub(r\"\\s+\", \" \", text)\n",
    "    # Remove leading/trailing whitespace again\n",
    "    text = text.strip()\n",
    "    return text\n",
    "\n",
    "def fetch_xml(doc_id: int, lang: str) -> str:\n",
    "    \"\"\"\n",
    "    Fetches the XML section for the given document ID and language code.\n",
    "    \"\"\"\n",
    "    url = f\"https://www.tbs-sct.canada.ca/pol/doc-{lang}.aspx?id={doc_id}&section=xml\"\n",
    "    resp = requests.get(url)\n",
    "    resp.raise_for_status()\n",
    "    return resp.text\n",
    "\n",
    "def extract_nodes_xml(xml_str: str) -> list[str]:\n",
    "    \"\"\"\n",
    "    Parses XML string, finds all <p> and <li> within the main body,\n",
    "    and returns their text contents as a list.\n",
    "    \"\"\"\n",
    "    root = ET.fromstring(xml_str)  # parse the XML string :contentReference[oaicite:3]{index=3}\n",
    "    items = []\n",
    "    # The main content is typically under the <body> or <div> tags;\n",
    "    # adjust the XPath as needed for your XML structure.\n",
    "    for elem in root.findall(\".//p\") + root.findall(\".//li\"):\n",
    "        text = (elem.text or \"\")\n",
    "        clean = clean_text_for_ai(text)\n",
    "        if len(clean) > 2:  # skip empty/very short\n",
    "            items.append(clean)\n",
    "    return items\n",
    "\n",
    "def scrape_doc_bilingual(doc_id: int) -> dict[str, list[str]]:\n",
    "    data = {}\n",
    "    for lang_code, key in [(\"eng\", \"en\"), (\"fra\", \"fr\")]:\n",
    "        xml = fetch_xml(doc_id, lang_code)\n",
    "        items = extract_nodes_xml(xml)\n",
    "        data[key] = items\n",
    "    # Align by index, truncate to shortest length\n",
    "    min_len = min(len(data[\"en\"]), len(data[\"fr\"]))\n",
    "    pairs = [{\"en\": data[\"en\"][i], \"fr\": data[\"fr\"][i]} for i in range(min_len)]\n",
    "    return pairs\n",
    "    "
   ]
  },
  {
   "cell_type": "code",
   "execution_count": 17,
   "id": "a3007bdd",
   "metadata": {},
   "outputs": [
    {
     "name": "stdout",
     "output_type": "stream",
     "text": [
      "Wrote 3 documents to output/all_docs.json\n"
     ]
    }
   ],
   "source": [
    "doc_ids = [32763, 32692, 13525]  # extend as needed\n",
    "all_docs = {}\n",
    "\n",
    "for did in doc_ids:\n",
    "    try:\n",
    "        all_docs[str(did)] = scrape_doc_bilingual(did)\n",
    "    except Exception as e:\n",
    "        print(f\"Error on ID {did}: {e}\")\n",
    "\n",
    "# Ensure output directory exists\n",
    "out_path = Path(\"output\")\n",
    "out_path.mkdir(exist_ok=True)\n",
    "\n",
    "# Write one combined JSON\n",
    "with open(out_path / \"all_docs.json\", \"w\", encoding=\"utf-8\") as f:\n",
    "    json.dump(all_docs, f, ensure_ascii=False, indent=2)\n",
    "\n",
    "print(f\"Wrote {len(all_docs)} documents to {out_path/'all_docs.json'}\")"
   ]
  },
  {
   "cell_type": "code",
   "execution_count": 18,
   "id": "3d2e19f6",
   "metadata": {},
   "outputs": [
    {
     "name": "stdout",
     "output_type": "stream",
     "text": [
      "Wrote 538 pairs to output/all_pairs.json\n"
     ]
    }
   ],
   "source": [
    "with open(Path(\"output\") / \"all_docs.json\", \"r\", encoding=\"utf-8\") as f:\n",
    "    all_docs = json.load(f)\n",
    "\n",
    "# Flatten all pairs into a single list\n",
    "all_pairs = []\n",
    "for pairs in all_docs.values():\n",
    "    all_pairs.extend(pairs)\n",
    "\n",
    "# Write the flattened list to a new JSON file\n",
    "with open(Path(\"output\") / \"all_pairs.json\", \"w\", encoding=\"utf-8\") as f:\n",
    "    json.dump(all_pairs, f, ensure_ascii=False, indent=2)\n",
    "\n",
    "print(f\"Wrote {len(all_pairs)} pairs to {Path('output') / 'all_pairs.json'}\")"
   ]
  }
 ],
 "metadata": {
  "kernelspec": {
   "display_name": ".venv",
   "language": "python",
   "name": "python3"
  },
  "language_info": {
   "codemirror_mode": {
    "name": "ipython",
    "version": 3
   },
   "file_extension": ".py",
   "mimetype": "text/x-python",
   "name": "python",
   "nbconvert_exporter": "python",
   "pygments_lexer": "ipython3",
   "version": "3.12.10"
  }
 },
 "nbformat": 4,
 "nbformat_minor": 5
}
