{
 "cells": [
  {
   "cell_type": "code",
   "execution_count": 1,
   "id": "c88defe1",
   "metadata": {},
   "outputs": [],
   "source": [
    "from transformers import MarianMTModel, MarianTokenizer"
   ]
  },
  {
   "cell_type": "code",
   "execution_count": 2,
   "id": "d1622a7b",
   "metadata": {},
   "outputs": [],
   "source": [
    "model_path = \"./eng-fra-finetuned/checkpoint-3\"\n",
    "tokenizer = MarianTokenizer.from_pretrained(model_path)\n",
    "model = MarianMTModel.from_pretrained(model_path)"
   ]
  },
  {
   "cell_type": "code",
   "execution_count": 3,
   "id": "bfbd37e4",
   "metadata": {},
   "outputs": [
    {
     "name": "stdout",
     "output_type": "stream",
     "text": [
      "./eng-fra-finetuned/checkpoint-3 Dans le cadre du deuxième Plan d'action du Canada pour un gouvernement ouvert, le gouvernement du Canada s'est engagé à communiquer des données sous-traitées grâce à une base de données centralisée et lisible par la machine accessible au public. Cet objectif renforce la publication proactive des marchés, qui reflète l'ensemble des promesses gouvernementales en matière de transparence et de redevabilité au sein du secteur public, initialement annoncé dans le budget de 2004.\n"
     ]
    }
   ],
   "source": [
    "input_text = \"As part of Canada’s second Action Plan on Open Government, the Government of Canada has committed to the disclosure of contracting data via a centralized, machine-readable database available to the public. This commitment reinforces the proactive publication of contracts, which reflects broader government commitments to transparency and strengthened accountability within the public sector originally announced in Budget 2004.\"\n",
    "\n",
    "input_tokens = tokenizer.encode(input_text, return_tensors=\"pt\")\n",
    "translated_tokens = model.generate(input_tokens, max_length=6000)\n",
    "output_text = tokenizer.decode(translated_tokens[0], skip_special_tokens=True)\n",
    "\n",
    "print(model_path, output_text)"
   ]
  }
 ],
 "metadata": {
  "kernelspec": {
   "display_name": "Python 3",
   "language": "python",
   "name": "python3"
  },
  "language_info": {
   "codemirror_mode": {
    "name": "ipython",
    "version": 3
   },
   "file_extension": ".py",
   "mimetype": "text/x-python",
   "name": "python",
   "nbconvert_exporter": "python",
   "pygments_lexer": "ipython3",
   "version": "3.12.3"
  }
 },
 "nbformat": 4,
 "nbformat_minor": 5
}
