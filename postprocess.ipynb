{
 "cells": [
  {
   "cell_type": "code",
   "execution_count": 26,
   "id": "a6e2f283",
   "metadata": {},
   "outputs": [],
   "source": [
    "import json\n",
    "import re"
   ]
  },
  {
   "cell_type": "code",
   "execution_count": 27,
   "id": "5d74dfe1",
   "metadata": {},
   "outputs": [],
   "source": [
    "def add_sentence_spacing(text):\n",
    "    # Adds a space after `.`, `!`, or `?` if not followed by space and starts with uppercase\n",
    "    return re.sub(r'([.!?])(?=[A-ZÉÈÊÀÂÎÔÙÛÇ])', r'\\1 ', text)"
   ]
  },
  {
   "cell_type": "code",
   "execution_count": 28,
   "id": "66d30150",
   "metadata": {},
   "outputs": [],
   "source": [
    "def add_space_after_parenthesis(text):\n",
    "    # Add space after ')' if not followed by space or period and not at end of string\n",
    "    return re.sub(r'\\)(?=[^\\s.])(?=.)', r') ', text)"
   ]
  },
  {
   "cell_type": "code",
   "execution_count": 29,
   "id": "175572fb",
   "metadata": {},
   "outputs": [],
   "source": [
    "def strip_numbering(text):\n",
    "    # Pattern to match numbering at the beginning of a sentence (e.g., 6, 6.3, 6.3.1)\n",
    "    number_start_pattern = r'^\\s*\\d+(\\.\\d+)*\\s*'\n",
    "\n",
    "    # Split the text into sentences based on punctuation followed by a space or newline\n",
    "    split_pattern = r'(?<=[.!?])\\s+'\n",
    "    sentences = re.split(split_pattern, text)\n",
    "    \n",
    "    # Strip the numbering from the start of each sentence\n",
    "    stripped_sentences = [re.sub(number_start_pattern, '', sentence) for sentence in sentences]\n",
    "    \n",
    "    # Rejoin the sentences back into one string\n",
    "    return ' '.join(stripped_sentences)"
   ]
  },
  {
   "cell_type": "code",
   "execution_count": 30,
   "id": "722d3994",
   "metadata": {},
   "outputs": [],
   "source": [
    "def match_french_case_to_english(item):\n",
    "    if 'en' in item and 'fr' in item:\n",
    "        en = item['en'].lstrip()\n",
    "        fr = item['fr'].lstrip()\n",
    "        \n",
    "        if en and fr and en[0].isupper() and fr[0].islower():\n",
    "            leading_spaces = len(item['fr']) - len(fr)\n",
    "            # Capitalize only the first character, keep the rest unchanged\n",
    "            item['fr'] = ' ' * leading_spaces + fr[0].upper() + fr[1:]\n",
    "    \n",
    "    return item"
   ]
  },
  {
   "cell_type": "code",
   "execution_count": 31,
   "id": "5ad700ad",
   "metadata": {},
   "outputs": [],
   "source": [
    "# Load your JSON data (from file or pasted string)\n",
    "with open('output/all_pairs.json', 'r', encoding='utf-8') as f:\n",
    "    data = json.load(f)\n",
    "    \n",
    "# Process each item in the list\n",
    "for item in data:\n",
    "    if 'en' in item:\n",
    "        item['en'] = strip_numbering(item['en'])\n",
    "        item['en'] = add_sentence_spacing(item['en'])\n",
    "        item['en'] = add_space_after_parenthesis(item['en'])\n",
    "        item['en'] = strip_numbering(item['en'])\n",
    "    if 'fr' in item:\n",
    "        item['fr'] = strip_numbering(item['fr'])\n",
    "        item['fr'] = add_sentence_spacing(item['fr'])\n",
    "        item['fr'] = add_space_after_parenthesis(item['fr'])\n",
    "        item['fr'] = strip_numbering(item['fr'])\n",
    "\n",
    "    item = match_french_case_to_english(item)\n",
    "\n",
    "\n",
    "# Optional: Save the cleaned data\n",
    "with open('cleaned_output.json', 'w', encoding='utf-8') as f:\n",
    "    json.dump(data, f, ensure_ascii=False, indent=2)"
   ]
  }
 ],
 "metadata": {
  "kernelspec": {
   "display_name": "Python 3",
   "language": "python",
   "name": "python3"
  },
  "language_info": {
   "codemirror_mode": {
    "name": "ipython",
    "version": 3
   },
   "file_extension": ".py",
   "mimetype": "text/x-python",
   "name": "python",
   "nbconvert_exporter": "python",
   "pygments_lexer": "ipython3",
   "version": "3.12.3"
  }
 },
 "nbformat": 4,
 "nbformat_minor": 5
}
