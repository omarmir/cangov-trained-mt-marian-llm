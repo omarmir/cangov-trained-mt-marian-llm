{
 "cells": [
  {
   "cell_type": "code",
   "execution_count": 35,
   "id": "a6e2f283",
   "metadata": {},
   "outputs": [],
   "source": [
    "import json\n",
    "import re\n",
    "import os"
   ]
  },
  {
   "cell_type": "code",
   "execution_count": 36,
   "id": "5d74dfe1",
   "metadata": {},
   "outputs": [],
   "source": [
    "def add_sentence_spacing(text):\n",
    "    # Adds a space after `.`, `!`, or `?` if not followed by space and starts with uppercase\n",
    "    return re.sub(r'([.!?])(?=[A-ZÉÈÊÀÂÎÔÙÛÇ])', r'\\1 ', text)"
   ]
  },
  {
   "cell_type": "code",
   "execution_count": 37,
   "id": "66d30150",
   "metadata": {},
   "outputs": [],
   "source": [
    "def add_space_after_parenthesis(text):\n",
    "    # Add space after ')' if not followed by space or period and not at end of string\n",
    "    return re.sub(r'\\)(?=[^\\s.])(?=.)', r') ', text)"
   ]
  },
  {
   "cell_type": "code",
   "execution_count": 38,
   "id": "175572fb",
   "metadata": {},
   "outputs": [],
   "source": [
    "def strip_numbering(text):\n",
    "    \"\"\"\n",
    "    Removes leading section-like numbering (e.g., 8.4.14) from the beginning of each line.\n",
    "    \"\"\"\n",
    "    lines = text.splitlines()\n",
    "    cleaned_lines = [re.sub(r'^\\s*\\d+(?:\\.\\d+)*\\s*', '', line) for line in lines]\n",
    "    return '\\n'.join(cleaned_lines)"
   ]
  },
  {
   "cell_type": "code",
   "execution_count": 39,
   "id": "26d53ed4",
   "metadata": {},
   "outputs": [],
   "source": [
    "def add_spaces_on_concat(item):\n",
    "    item = re.sub(r'([a-zA-Z0-9])([A-ZÁÀÂÉÈÊÍÎÓÔÙÛÇ])', r'\\1 \\2', item)  # Add space between lowercase and uppercase letters\n",
    "    item = re.sub(r'([A-Za-z0-9])([\\'’])([A-Za-z])', r'\\1\\2 \\3', item)  # Add space after apostrophe if needed\n",
    "    return item"
   ]
  },
  {
   "cell_type": "code",
   "execution_count": 40,
   "id": "37d6d480",
   "metadata": {},
   "outputs": [],
   "source": [
    "def clean_address(item):\n",
    "  item = re.sub(r'([a-zA-Z0-9]),([a-zA-Z])', r'\\1, \\2', item)  # Ensure space after commas\n",
    "  return item"
   ]
  },
  {
   "cell_type": "code",
   "execution_count": 41,
   "id": "027341a6",
   "metadata": {},
   "outputs": [],
   "source": [
    "def standardize_dash(item):\n",
    "  item = re.sub(r' – ', ' - ', item)  # Replace en dash with hyphen where appropriate\n",
    "  return item"
   ]
  },
  {
   "cell_type": "code",
   "execution_count": 42,
   "id": "722d3994",
   "metadata": {},
   "outputs": [],
   "source": [
    "def match_french_case_to_english(item):\n",
    "    if 'en' in item and 'fr' in item:\n",
    "        en = item['en'].lstrip()\n",
    "        fr = item['fr'].lstrip()\n",
    "        \n",
    "        if en and fr and en[0].isupper() and fr[0].islower():\n",
    "            leading_spaces = len(item['fr']) - len(fr)\n",
    "            # Capitalize only the first character, keep the rest unchanged\n",
    "            item['fr'] = ' ' * leading_spaces + fr[0].upper() + fr[1:]\n",
    "    \n",
    "    return item"
   ]
  },
  {
   "cell_type": "code",
   "execution_count": 43,
   "id": "648a696c",
   "metadata": {},
   "outputs": [],
   "source": [
    "def remove_phone_numbers(text):\n",
    "    # Regular expression pattern for matching phone numbers in formats like (613) 946-3061, 613-946-3061, etc.\n",
    "    phone_number_pattern = r'\\(?\\d{3}\\)?[\\s\\-‐]?\\d{3}[\\s\\-‐]?\\d{4}'\n",
    "    \n",
    "    # Remove phone numbers from the text\n",
    "    text = re.sub(phone_number_pattern, '', text)\n",
    "    \n",
    "    # Remove leading/trailing spaces (in case the phone number was at the start or end)\n",
    "    text = text.strip()\n",
    "    \n",
    "    return text"
   ]
  },
  {
   "cell_type": "code",
   "execution_count": 44,
   "id": "9f920a41",
   "metadata": {},
   "outputs": [],
   "source": [
    "def clean_text(text: str):\n",
    "  text = strip_numbering(text)\n",
    "  text = add_sentence_spacing(text)\n",
    "  text = add_space_after_parenthesis(text)\n",
    "  text = add_spaces_on_concat(text)\n",
    "  text = clean_address(text)\n",
    "  text = standardize_dash(text)\n",
    "  text = remove_phone_numbers(text)\n",
    "\n",
    "  return text"
   ]
  },
  {
   "cell_type": "code",
   "execution_count": 45,
   "id": "5ad700ad",
   "metadata": {},
   "outputs": [
    {
     "name": "stdout",
     "output_type": "stream",
     "text": [
      "8128\n"
     ]
    }
   ],
   "source": [
    "# Load your JSON data (from file or pasted string)\n",
    "with open('output/all_pairs.json', 'r', encoding='utf-8') as f:\n",
    "    data = json.load(f)\n",
    "\n",
    "# Process each item in the list\n",
    "for text in data:\n",
    "    if 'en' in text:\n",
    "        text['en'] = clean_text(text['en'])\n",
    "    if 'fr' in text:\n",
    "        text['fr'] = clean_text(text['fr'])\n",
    "\n",
    "    text = match_french_case_to_english(text)\n",
    "\n",
    "# # Add files from the static folder\n",
    "# static_folder = 'output/static'\n",
    "# if os.path.exists(static_folder) and os.path.isdir(static_folder):\n",
    "#     for filename in os.listdir(static_folder):\n",
    "#         if filename.endswith('.json'):\n",
    "#             with open(os.path.join(static_folder, filename), 'r', encoding='utf-8') as sf:\n",
    "#                 static_data = json.load(sf)\n",
    "#                 if isinstance(static_data, list):\n",
    "#                     data.extend(static_data)\n",
    "#                 else:\n",
    "#                     data.append(static_data)\n",
    "# else:\n",
    "#     print(f\"Warning: The folder '{static_folder}' does not exist. Skipping static folder processing.\")\n",
    "\n",
    "\n",
    "# Optional: Save the cleaned data\n",
    "with open('train.json', 'w', encoding='utf-8') as f:\n",
    "    json.dump(data, f, ensure_ascii=False, indent=2)\n",
    "\n",
    "    print(len(data))"
   ]
  }
 ],
 "metadata": {
  "kernelspec": {
   "display_name": ".venv",
   "language": "python",
   "name": "python3"
  },
  "language_info": {
   "codemirror_mode": {
    "name": "ipython",
    "version": 3
   },
   "file_extension": ".py",
   "mimetype": "text/x-python",
   "name": "python",
   "nbconvert_exporter": "python",
   "pygments_lexer": "ipython3",
   "version": "3.12.10"
  }
 },
 "nbformat": 4,
 "nbformat_minor": 5
}
