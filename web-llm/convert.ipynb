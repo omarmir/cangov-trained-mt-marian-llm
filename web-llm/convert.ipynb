{
 "cells": [
  {
   "cell_type": "code",
   "execution_count": null,
   "id": "fc549369",
   "metadata": {},
   "outputs": [],
   "source": [
    "import os\n",
    "from mlc_llm import gen_config"
   ]
  },
  {
   "cell_type": "code",
   "execution_count": null,
   "id": "94bbca75",
   "metadata": {},
   "outputs": [],
   "source": [
    "# 2. Define paths and parameters\n",
    "model_repo = \"./eng-to-fra-model\"  # Local directory\n",
    "output_dir = \"./dist/eng-to-fra-model-MLC\"\n",
    "quantization = \"q4f16_1\"\n",
    "conv_template = \"marian\"\n",
    "\n",
    "os.makedirs(output_dir, exist_ok=True)"
   ]
  },
  {
   "cell_type": "code",
   "execution_count": null,
   "id": "54a16ceb",
   "metadata": {},
   "outputs": [],
   "source": [
    "convert_weight(\n",
    "    model_path=model_repo,\n",
    "    quantization=quantization,\n",
    "    output_dir=output_dir\n",
    ")"
   ]
  },
  {
   "cell_type": "code",
   "execution_count": null,
   "id": "455613a5",
   "metadata": {},
   "outputs": [],
   "source": [
    "gen_config(\n",
    "    model_path=model_repo,\n",
    "    quantization=quantization,\n",
    "    conv_template=conv_template,\n",
    "    output_dir=output_dir\n",
    ")"
   ]
  },
  {
   "cell_type": "code",
   "execution_count": null,
   "id": "6689b24e",
   "metadata": {},
   "outputs": [],
   "source": [
    "for root, dirs, files in os.walk(output_dir):\n",
    "    for file in files:\n",
    "        print(os.path.join(root, file))"
   ]
  },
  {
   "cell_type": "code",
   "execution_count": null,
   "id": "482f0027",
   "metadata": {},
   "outputs": [],
   "source": [
    "compile_model(\n",
    "    config_path=os.path.join(output_dir, \"mlc-chat-config.json\"),\n",
    "    device=\"webgpu\",\n",
    "    output_dir=\"./dist/libs/eng-to-fra-model-webgpu\"\n",
    ")"
   ]
  }
 ],
 "metadata": {
  "kernelspec": {
   "display_name": "Python 3",
   "language": "python",
   "name": "python3"
  },
  "language_info": {
   "codemirror_mode": {
    "name": "ipython",
    "version": 3
   },
   "file_extension": ".py",
   "mimetype": "text/x-python",
   "name": "python",
   "nbconvert_exporter": "python",
   "pygments_lexer": "ipython3",
   "version": "3.9.0"
  }
 },
 "nbformat": 4,
 "nbformat_minor": 5
}
