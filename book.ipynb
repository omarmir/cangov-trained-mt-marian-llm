{
 "cells": [
  {
   "cell_type": "code",
   "execution_count": 14,
   "id": "854da41a",
   "metadata": {},
   "outputs": [],
   "source": [
    "from transformers import MarianMTModel, MarianTokenizer, AutoTokenizer, AutoModelForSeq2SeqLM"
   ]
  },
  {
   "cell_type": "code",
   "execution_count": null,
   "id": "f5d0a0a1",
   "metadata": {},
   "outputs": [],
   "source": [
    "input_text = \"As part of Canada’s second Action Plan on Open Government, the Government of Canada has committed to the disclosure of contracting data via a centralized, machine-readable database available to the public. This commitment reinforces the proactive publication of contracts, which reflects broader government commitments to transparency and strengthened accountability within the public sector originally announced in Budget 2004.\""
   ]
  },
  {
   "cell_type": "code",
   "execution_count": null,
   "id": "69de377b",
   "metadata": {},
   "outputs": [],
   "source": [
    "model_name = \"Helsinki-NLP/opus-mt-en-fr\"\n",
    "tokenizer = MarianTokenizer.from_pretrained(model_name)\n",
    "model = MarianMTModel.from_pretrained(model_name)"
   ]
  },
  {
   "cell_type": "code",
   "execution_count": null,
   "id": "66fd1415",
   "metadata": {},
   "outputs": [],
   "source": [
    "input_tokens = tokenizer.encode(input_text, return_tensors=\"pt\")\n",
    "translated_tokens = model.generate(input_tokens, max_length=6000)\n",
    "output_text = tokenizer.decode(translated_tokens[0], skip_special_tokens=True)"
   ]
  },
  {
   "cell_type": "code",
   "execution_count": null,
   "id": "b0e44664",
   "metadata": {},
   "outputs": [],
   "source": [
    "model_name2 = \"rajbhirud/eng-to-fra-model\"\n",
    "tokenizer2 = MarianTokenizer.from_pretrained(model_name2)\n",
    "model2 = MarianMTModel.from_pretrained(model_name2)"
   ]
  },
  {
   "cell_type": "code",
   "execution_count": null,
   "id": "7fc5b823",
   "metadata": {},
   "outputs": [],
   "source": [
    "input_tokens2 = tokenizer2.encode(input_text, return_tensors=\"pt\")\n",
    "translated_tokens2 = model2.generate(input_tokens2, max_length=6000)\n",
    "output_text2 = tokenizer2.decode(translated_tokens2[0], skip_special_tokens=True)"
   ]
  },
  {
   "cell_type": "code",
   "execution_count": 16,
   "id": "6846f7c1",
   "metadata": {},
   "outputs": [
    {
     "name": "stderr",
     "output_type": "stream",
     "text": [
      "c:\\Users\\MIRO1\\Apps\\python-3.12.3\\Lib\\site-packages\\huggingface_hub\\file_download.py:144: UserWarning: `huggingface_hub` cache-system uses symlinks by default to efficiently store duplicated files but your machine does not support them in C:\\Users\\MIRO1\\.cache\\huggingface\\hub\\models--SEBIS--legal_t5_small_trans_en_fr. Caching files will still work but in a degraded version that might require more space on your disk. This warning can be disabled by setting the `HF_HUB_DISABLE_SYMLINKS_WARNING` environment variable. For more details, see https://huggingface.co/docs/huggingface_hub/how-to-cache#limitations.\n",
      "To support symlinks on Windows, you either need to activate Developer Mode or to run Python as an administrator. In order to activate developer mode, see this article: https://docs.microsoft.com/en-us/windows/apps/get-started/enable-your-device-for-development\n",
      "  warnings.warn(message)\n",
      "You are using the default legacy behaviour of the <class 'transformers.models.t5.tokenization_t5.T5Tokenizer'>. This is expected, and simply means that the `legacy` (previous) behavior will be used so nothing changes for you. If you want to use the new behaviour, set `legacy=False`. This should only be set if you understand what it means, and thoroughly read the reason why this was added as explained in https://github.com/huggingface/transformers/pull/24565\n"
     ]
    }
   ],
   "source": [
    "#model_path = \"./SEBIS/legal_t5_small_trans_en_fr.bin\"\n",
    "model_name3 = \"SEBIS/legal_t5_small_trans_en_fr\"\n",
    "tokenizer3 = AutoTokenizer.from_pretrained(model_name3)\n",
    "model3 = AutoModelForSeq2SeqLM.from_pretrained(model_name3)"
   ]
  },
  {
   "cell_type": "code",
   "execution_count": 17,
   "id": "ee2d7814",
   "metadata": {},
   "outputs": [],
   "source": [
    "input_tokens3 = tokenizer3.encode(input_text, return_tensors=\"pt\")\n",
    "translated_tokens3 = model3.generate(input_tokens3, max_length=6000)\n",
    "output_text3 = tokenizer3.decode(translated_tokens3[0], skip_special_tokens=True)"
   ]
  },
  {
   "cell_type": "code",
   "execution_count": 18,
   "id": "0093e424",
   "metadata": {},
   "outputs": [
    {
     "name": "stdout",
     "output_type": "stream",
     "text": [
      "Helsinki-NLP/opus-mt-en-fr Dans le cadre du deuxième Plan d'action du Canada pour un gouvernement ouvert, le gouvernement du Canada s'est engagé à communiquer des données sur les marchés au moyen d'une base de données centralisée et lisible par machine à la disposition du public, ce qui renforce la publication proactive des marchés, ce qui reflète l'engagement plus large du gouvernement à l'égard de la transparence et du renforcement de la responsabilisation au sein du secteur public annoncé initialement dans le budget de 2004.\n",
      "rajbhirud/eng-to-fra-model Dans le cadre du deuxième Plan d'action du Canada pour un gouvernement ouvert, le gouvernement du Canada s'est engagé à communiquer des données sous-traitées via une base de données centralisée, lisible par la machine, accessible au public. Cet objectif renforce la publication proactive des marchés, qui reflète l'ensemble des promesses gouvernementales en matière de transparence et de redevabilité au sein du secteur public initialement annoncé dans le budget de 2004.\n",
      "SEBIS/legal_t5_small_trans_en_fr Dans le cadre du deuxième plan d'action du Canada sur le gouvernement ouvert, le gouvernement du Canada s'est engagé à ce que les données relatives aux contrats soient divulguées via une base de données centralisée et lisible par machine accessible au public. Cet engagement renforce la publication proactive des contrats, qui reflète les engagements plus larges du gouvernement en matière de transparence et de responsabilisation dans le secteur public initialement annoncés dans le budget 2004.\n"
     ]
    }
   ],
   "source": [
    "print(model_name, output_text)\n",
    "print(model_name2, output_text2)\n",
    "print(model_name3, output_text3)"
   ]
  },
  {
   "cell_type": "code",
   "execution_count": 19,
   "id": "054ca807",
   "metadata": {},
   "outputs": [
    {
     "name": "stdout",
     "output_type": "stream",
     "text": [
      "Dans le cadre du deuxième Plan d'action du Canada pour un gouvernement ouvert, le gouvernement du Canada s'est engagé à communiquer des données sur les marchés au moyen d'une base de données centralisée et lisible par machine accessible au public. Cet engagement renforce la publication proactive des contrats, qui reflète les engagements plus larges du gouvernement envers la transparence et le renforcement de la responsabilisation dans le secteur public annoncé initialement dans le budget de 2004.\n"
     ]
    }
   ],
   "source": [
    "input_text_t = \"As part of Canada’s second Action Plan on Open Government, the Government of Canada has committed to the disclosure of contracting data via a centralized, machine-readable database available to the public.\"\n",
    "input_text_r = \"This commitment reinforces the proactive publication of contracts, which reflects broader government commitments to transparency and strengthened accountability within the public sector originally announced in Budget 2004.\"\n",
    "\n",
    "input_tokens = tokenizer.encode(input_text_t, return_tensors=\"pt\")\n",
    "translated_tokens = model.generate(input_tokens, max_length=6000)\n",
    "output_text_t = tokenizer.decode(translated_tokens[0], skip_special_tokens=True)\n",
    "\n",
    "input_tokens = tokenizer.encode(input_text_r, return_tensors=\"pt\")\n",
    "translated_tokens = model.generate(input_tokens, max_length=6000)\n",
    "output_text_r = tokenizer.decode(translated_tokens[0], skip_special_tokens=True)\n",
    "print(output_text_t + \" \" + output_text_r)"
   ]
  }
 ],
 "metadata": {
  "kernelspec": {
   "display_name": "Python 3",
   "language": "python",
   "name": "python3"
  },
  "language_info": {
   "codemirror_mode": {
    "name": "ipython",
    "version": 3
   },
   "file_extension": ".py",
   "mimetype": "text/x-python",
   "name": "python",
   "nbconvert_exporter": "python",
   "pygments_lexer": "ipython3",
   "version": "3.12.3"
  }
 },
 "nbformat": 4,
 "nbformat_minor": 5
}
